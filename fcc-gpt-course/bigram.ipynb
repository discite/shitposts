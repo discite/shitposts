{
 "cells": [
  {
   "cell_type": "code",
   "execution_count": 51,
   "id": "bff2a3a5-2209-47b6-8cb4-1c32d6e356d0",
   "metadata": {},
   "outputs": [
    {
     "name": "stdout",
     "output_type": "stream",
     "text": [
      "cuda\n"
     ]
    }
   ],
   "source": [
    "import torch\n",
    "device = 'cuda' if torch.cuda.is_available() else 'cpu'\n",
    "print(device)\n",
    "blockSize = 8 #Index\n",
    "batchSize = 4"
   ]
  },
  {
   "cell_type": "code",
   "execution_count": 37,
   "id": "59b3eba1-e075-4242-bc8a-e1d6b543b8f6",
   "metadata": {},
   "outputs": [
    {
     "name": "stdout",
     "output_type": "stream",
     "text": [
      "['\\n', ' ', '!', '\"', '&', \"'\", '(', ')', '*', ',', '-', '.', '0', '1', '2', '3', '4', '5', '6', '7', '8', '9', ':', ';', '?', 'A', 'B', 'C', 'D', 'E', 'F', 'G', 'H', 'I', 'J', 'K', 'L', 'M', 'N', 'O', 'P', 'Q', 'R', 'S', 'T', 'U', 'V', 'W', 'X', 'Y', 'Z', '[', ']', '_', 'a', 'b', 'c', 'd', 'e', 'f', 'g', 'h', 'i', 'j', 'k', 'l', 'm', 'n', 'o', 'p', 'q', 'r', 's', 't', 'u', 'v', 'w', 'x', 'y', 'z', '\\ufeff']\n"
     ]
    }
   ],
   "source": [
    "with open('wizard_of_oz.txt', 'r', encoding='utf-8') as f:\n",
    "    text = f.read()\n",
    "chars = sorted(set(text))\n",
    "print(chars)\n",
    "#Tokenizer\n",
    "vocabulary_size = (len(chars))"
   ]
  },
  {
   "cell_type": "code",
   "execution_count": 38,
   "id": "34b34ef6-926e-469e-bd3f-6366be3da00a",
   "metadata": {},
   "outputs": [
    {
     "name": "stdout",
     "output_type": "stream",
     "text": [
      "tensor([80, 28, 39, 42, 39, 44, 32, 49,  1, 25, 38, 28,  1, 44, 32, 29,  1, 47,\n",
      "        33, 50, 25, 42, 28,  1, 33, 38,  1, 39, 50,  0,  0,  1,  1, 26, 49,  0,\n",
      "         0,  1,  1, 36, 11,  1, 30, 42, 25, 38, 35,  1, 26, 25, 45, 37,  0,  0,\n",
      "         1,  1, 25, 45, 44, 32, 39, 42,  1, 39, 30,  1, 44, 32, 29,  1, 47, 33,\n",
      "        50, 25, 42, 28,  1, 39, 30,  1, 39, 50,  9,  1, 44, 32, 29,  1, 36, 25,\n",
      "        38, 28,  1, 39, 30,  1, 39, 50,  9,  1])\n"
     ]
    }
   ],
   "source": [
    "#Mapper\n",
    "string_to_int = { ch:i for i,ch in enumerate(chars) }\n",
    "int_to_string = { i:ch for i,ch in enumerate(chars) }\n",
    "encode = lambda s: [string_to_int[c] for c in s]\n",
    "decode = lambda l: ''.join([int_to_string[i] for i in l])\n",
    "#Pytorch, use the whole book\n",
    "data = torch.tensor(encode(text), dtype=torch.long)\n",
    "print(data[:100])"
   ]
  },
  {
   "cell_type": "code",
   "execution_count": 40,
   "id": "242097c5-33d4-4745-86d6-796a103479c6",
   "metadata": {},
   "outputs": [],
   "source": [
    "percTrain = 70 #Percentage\n",
    "\n",
    "# Train and Test Data\n",
    "dataSize = len(data)\n",
    "trainSize = round(percTrain/100 * dataSize)\n",
    "valSize = dataSize - trainSize\n",
    "\n",
    "trainData = data[:trainSize]\n",
    "valData = data[:valSize]"
   ]
  },
  {
   "cell_type": "code",
   "execution_count": 46,
   "id": "dacc207f-6c66-42c7-ba2c-514ab6a74f11",
   "metadata": {},
   "outputs": [
    {
     "name": "stdout",
     "output_type": "stream",
     "text": [
      "when input is tensor([80]) target is tensor(28)\n",
      "when input is tensor([80, 28]) target is tensor(39)\n",
      "when input is tensor([80, 28, 39]) target is tensor(42)\n",
      "when input is tensor([80, 28, 39, 42]) target is tensor(39)\n",
      "when input is tensor([80, 28, 39, 42, 39]) target is tensor(44)\n",
      "when input is tensor([80, 28, 39, 42, 39, 44]) target is tensor(32)\n",
      "when input is tensor([80, 28, 39, 42, 39, 44, 32]) target is tensor(49)\n",
      "when input is tensor([80, 28, 39, 42, 39, 44, 32, 49]) target is tensor(1)\n"
     ]
    }
   ],
   "source": [
    "\n",
    "x = train_data[:blockSize]\n",
    "y = train_data[1:blockSize+1]\n",
    "for t in range(blockSize):\n",
    "    context = x[:t+1]\n",
    "    target = y[t]\n",
    "    print('when input is', context, 'target is', target)"
   ]
  },
  {
   "cell_type": "code",
   "execution_count": null,
   "id": "9e7c5532-3305-4c8b-a91f-81951b068b91",
   "metadata": {},
   "outputs": [],
   "source": []
  }
 ],
 "metadata": {
  "kernelspec": {
   "display_name": "cuda-gpt",
   "language": "python",
   "name": "cuda"
  },
  "language_info": {
   "codemirror_mode": {
    "name": "ipython",
    "version": 3
   },
   "file_extension": ".py",
   "mimetype": "text/x-python",
   "name": "python",
   "nbconvert_exporter": "python",
   "pygments_lexer": "ipython3",
   "version": "3.11.2"
  }
 },
 "nbformat": 4,
 "nbformat_minor": 5
}
